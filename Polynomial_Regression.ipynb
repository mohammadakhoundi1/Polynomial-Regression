{
  "nbformat": 4,
  "nbformat_minor": 0,
  "metadata": {
    "colab": {
      "provenance": [],
      "authorship_tag": "ABX9TyMo6gslWpU2hxEtFHuKaLaL",
      "include_colab_link": true
    },
    "kernelspec": {
      "name": "python3",
      "display_name": "Python 3"
    },
    "language_info": {
      "name": "python"
    }
  },
  "cells": [
    {
      "cell_type": "markdown",
      "metadata": {
        "id": "view-in-github",
        "colab_type": "text"
      },
      "source": [
        "<a href=\"https://colab.research.google.com/github/mohammadakhoundi1/Polynomial-Regression/blob/main/Polynomial_Regression.ipynb\" target=\"_parent\"><img src=\"https://colab.research.google.com/assets/colab-badge.svg\" alt=\"Open In Colab\"/></a>"
      ]
    },
    {
      "cell_type": "code",
      "execution_count": 6,
      "metadata": {
        "id": "hcZHPTS1lA4y"
      },
      "outputs": [],
      "source": [
        "# Feature Engineering\n",
        "import numpy as np\n",
        "import copy"
      ]
    },
    {
      "cell_type": "code",
      "source": [
        "X_train = np.arange(0,20,1)\n"
      ],
      "metadata": {
        "id": "xe05qji4pHEm"
      },
      "execution_count": null,
      "outputs": []
    },
    {
      "cell_type": "code",
      "source": [
        "def compute_cost(X, y, w, b):\n",
        "\n",
        "    m = X.shape[0]\n",
        "    cost = 0.0\n",
        "    for i in range(m):\n",
        "        f_wb_i = np.dot(X[i],w) + b\n",
        "        cost = cost + (f_wb_i - y[i])**2\n",
        "    cost = cost/(2*m)\n",
        "    return(np.squeeze(cost))"
      ],
      "metadata": {
        "id": "SBHUyy5vvZl7"
      },
      "execution_count": 7,
      "outputs": []
    },
    {
      "cell_type": "code",
      "source": [
        "def compute_gradient(x,y,w,b):\n",
        "  dj_dw = np.zero(n,)\n",
        "  dj_db = 0\n",
        "  m,n = x.shape\n",
        "  for i in range(m):\n",
        "    err = np.dot(w,x[i]) +b - y[i]\n",
        "    for j in range(n):\n",
        "      dj_dw[j] = dj_dw[j] + err * x[i,j]\n",
        "      dj_db = dj_db + err\n",
        "  dj_dw = dj_dw/m\n",
        "  dj_db = dj_db/m\n",
        "  return dj_dw,dj_db"
      ],
      "metadata": {
        "id": "gltME7MTmIwO"
      },
      "execution_count": 4,
      "outputs": []
    },
    {
      "cell_type": "code",
      "source": [
        "def compute_gradient_descent(x,y,w_in, b_in,iterations,alpha,compute_gradient, compute_cost):\n",
        "  w = copy.deepcopy(w_in)  #avoid modifying global w within function\n",
        "  b = b_in\n",
        "  hist={}\n",
        "  hist[\"cost\"] = [];\n",
        "  hist[\"params\"] = [];\n",
        "  hist[\"grads\"]=[];\n",
        "  hist[\"iter\"]=[];\n",
        "  for i in range(iterations):\n",
        "    dj_dw,dj_db = compute_gradient(x,y,w,b)\n",
        "    w=w-alpha * dj_dw\n",
        "    b=b-alpha * dj_db\n",
        "\n",
        "    if i==0:\n",
        "     hist[\"cost\"].append(compute_cost(x,y,w,b))\n",
        "     hist[\"params\"].append([w,b])\n",
        "     hist[\"grads\"].append([dj_dw,dj_db])\n",
        "     hist[\"iter\"].append(i)\n",
        ""
      ],
      "metadata": {
        "id": "OD01ON2wxRfK"
      },
      "execution_count": null,
      "outputs": []
    }
  ]
}